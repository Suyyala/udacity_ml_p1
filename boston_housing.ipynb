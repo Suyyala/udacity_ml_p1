{
 "cells": [
  {
   "cell_type": "markdown",
   "metadata": {},
   "source": [
    "# Machine Learning Engineer Nanodegree\n",
    "## Model Evaluation & Validation\n",
    "## Project 1: Predicting Boston Housing Prices\n",
    "\n",
    "Welcome to the first project of the Machine Learning Engineer Nanodegree! In this notebook, some template code has already been written. You will need to implement additional functionality to successfully answer all of the questions for this project. Unless it is requested, do not modify any of the code that has already been included. In this template code, there are four sections which you must complete to successfully produce a prediction with your model. Each section where you will write code is preceded by a **STEP X** header with comments describing what must be done. Please read the instructions carefully!\n",
    "\n",
    "In addition to implementing code, there will be questions that you must answer that relate to the project and your implementation. Each section where you will answer a question is preceded by a **QUESTION X** header. Be sure that you have carefully read each question and provide thorough answers in the text boxes that begin with \"**Answer:**\". Your project submission will be evaluated based on your answers to each of the questions.  \n",
    "\n",
    "A description of the dataset can be found [here](https://archive.ics.uci.edu/ml/datasets/Housing), which is provided by the **UCI Machine Learning Repository**."
   ]
  },
  {
   "cell_type": "markdown",
   "metadata": {},
   "source": [
    "# Getting Started\n",
    "To familiarize yourself with an iPython Notebook, **try double clicking on this cell**. You will notice that the text changes so that all the formatting is removed. This allows you to make edits to the block of text you see here. This block of text (and mostly anything that's not code) is written using [Markdown](http://daringfireball.net/projects/markdown/syntax), which is a way to format text using headers, links, italics, and many other options! Whether you're editing a Markdown text block or a code block (like the one below), you can use the keyboard shortcut **Shift + Enter** or **Shift + Return** to execute the code or text block. In this case, it will show the formatted text.\n",
    "\n",
    "Let's start by setting up some code we will need to get the rest of the project up and running. Use the keyboard shortcut mentioned above on the following code block to execute it. Alternatively, depending on your iPython Notebook program, you can press the **Play** button in the hotbar. You'll know the code block executes successfully if the message *\"Boston Housing dataset loaded successfully!\"* is printed."
   ]
  },
  {
   "cell_type": "code",
   "execution_count": 1,
   "metadata": {
    "collapsed": false
   },
   "outputs": [
    {
     "name": "stdout",
     "output_type": "stream",
     "text": [
      "Boston Housing dataset loaded successfully!\n"
     ]
    }
   ],
   "source": [
    "# Importing a few necessary libraries\n",
    "import numpy as np\n",
    "import matplotlib.pyplot as pl\n",
    "from sklearn import datasets\n",
    "from sklearn.tree import DecisionTreeRegressor\n",
    "\n",
    "# Make matplotlib show our plots inline (nicely formatted in the notebook)\n",
    "%matplotlib inline\n",
    "\n",
    "# Create our client's feature set for which we will be predicting a selling price\n",
    "CLIENT_FEATURES = [[11.95, 0.00, 18.100, 0, 0.6590, 5.6090, 90.00, 1.385, 24, 680.0, 20.20, 332.09, 12.13]]\n",
    "\n",
    "# Load the Boston Housing dataset into the city_data variable\n",
    "city_data = datasets.load_boston()\n",
    "\n",
    "# Initialize the housing prices and housing features\n",
    "housing_prices = city_data.target\n",
    "housing_features = city_data.data\n",
    "\n",
    "print \"Boston Housing dataset loaded successfully!\""
   ]
  },
  {
   "cell_type": "markdown",
   "metadata": {},
   "source": [
    "# Statistical Analysis and Data Exploration\n",
    "In this first section of the project, you will quickly investigate a few basic statistics about the dataset you are working with. In addition, you'll look at the client's feature set in `CLIENT_FEATURES` and see how this particular sample relates to the features of the dataset. Familiarizing yourself with the data through an explorative process is a fundamental practice to help you better understand your results."
   ]
  },
  {
   "cell_type": "markdown",
   "metadata": {},
   "source": [
    "## Step 1\n",
    "In the code block below, use the imported `numpy` library to calculate the requested statistics. You will need to replace each `None` you find with the appropriate `numpy` coding for the proper statistic to be printed. Be sure to execute the code block each time to test if your implementation is working successfully. The print statements will show the statistics you calculate!"
   ]
  },
  {
   "cell_type": "code",
   "execution_count": 20,
   "metadata": {
    "collapsed": false
   },
   "outputs": [
    {
     "name": "stdout",
     "output_type": "stream",
     "text": [
      "Boston Housing dataset statistics (in $1000's):\n",
      "\n",
      "Total number of houses: 506\n",
      "Total number of features: 13\n",
      "Minimum house price: 5.0\n",
      "Maximum house price: 50.0\n",
      "Mean house price: 22.533\n",
      "Median house price: 21.2\n",
      "Standard deviation of house price: 9.188\n"
     ]
    }
   ],
   "source": [
    "# Number of houses in the dataset\n",
    "#print housing_prices\n",
    "#print housing_features\n",
    "total_houses = housing_features.shape[0]\n",
    "\n",
    "# Number of features in the dataset\n",
    "total_features = housing_features.shape[1]\n",
    "\n",
    "# Minimum housing value in the dataset\n",
    "minimum_price = np.min(housing_prices)\n",
    "\n",
    "# Maximum housing value in the dataset\n",
    "maximum_price = np.max(housing_prices)\n",
    "\n",
    "# Mean house value of the dataset\n",
    "mean_price = np.mean(housing_prices)\n",
    "\n",
    "# Median house value of the dataset\n",
    "median_price = np.median(housing_prices)\n",
    "\n",
    "# Standard deviation of housing values of the dataset\n",
    "std_dev = np.std(housing_prices)\n",
    "\n",
    "# Show the calculated statistics\n",
    "print \"Boston Housing dataset statistics (in $1000's):\\n\"\n",
    "print \"Total number of houses:\", total_houses\n",
    "print \"Total number of features:\", total_features\n",
    "print \"Minimum house price:\", minimum_price\n",
    "print \"Maximum house price:\", maximum_price\n",
    "print \"Mean house price: {0:.3f}\".format(mean_price)\n",
    "print \"Median house price:\", median_price\n",
    "print \"Standard deviation of house price: {0:.3f}\".format(std_dev)"
   ]
  },
  {
   "cell_type": "markdown",
   "metadata": {},
   "source": [
    "## Question 1\n",
    "As a reminder, you can view a description of the Boston Housing dataset [here](https://archive.ics.uci.edu/ml/datasets/Housing), where you can find the different features under **Attribute Information**. The `MEDV` attribute relates to the values stored in our `housing_prices` variable, so we do not consider that a feature of the data.\n",
    "\n",
    "*Of the features available for each data point, choose three that you feel are significant and give a brief description for each of what they measure.*\n",
    "\n",
    "Remember, you can **double click the text box below** to add your answer!"
   ]
  },
  {
   "cell_type": "markdown",
   "metadata": {},
   "source": [
    "**Answer: **\n",
    "    1. CRIM      per capita crime rate by town\n",
    "    6. RM        average number of rooms per dwelling\n",
    "    8. DIS       weighted distances to five Boston employment centres"
   ]
  },
  {
   "cell_type": "markdown",
   "metadata": {},
   "source": [
    "## Question 2\n",
    "*Using your client's feature set `CLIENT_FEATURES`, which values correspond with the features you've chosen above?*  \n",
    "**Hint: ** Run the code block below to see the client's data."
   ]
  },
  {
   "cell_type": "code",
   "execution_count": 21,
   "metadata": {
    "collapsed": false
   },
   "outputs": [
    {
     "name": "stdout",
     "output_type": "stream",
     "text": [
      "[[11.95, 0.0, 18.1, 0, 0.659, 5.609, 90.0, 1.385, 24, 680.0, 20.2, 332.09, 12.13]]\n"
     ]
    }
   ],
   "source": [
    "print CLIENT_FEATURES"
   ]
  },
  {
   "cell_type": "markdown",
   "metadata": {},
   "source": [
    "**Answer: **\n",
    "    1. CRIM      11.95\n",
    "    6. RM        5.609\n",
    "    8. DIS       1.385"
   ]
  },
  {
   "cell_type": "markdown",
   "metadata": {},
   "source": [
    "# Evaluating Model Performance\n",
    "In this second section of the project, you will begin to develop the tools necessary for a model to make a prediction. Being able to accurately evaluate each model's performance through the use of these tools helps to greatly reinforce the confidence in your predictions."
   ]
  },
  {
   "cell_type": "markdown",
   "metadata": {},
   "source": [
    "## Step 2\n",
    "In the code block below, you will need to implement code so that the `shuffle_split_data` function does the following:\n",
    "- Randomly shuffle the input data `X` and target labels (housing values) `y`.\n",
    "- Split the data into training and testing subsets, holding 30% of the data for testing.\n",
    "\n",
    "If you use any functions not already acessible from the imported libraries above, remember to include your import statement below as well!   \n",
    "Ensure that you have executed the code block once you are done. You'll know the `shuffle_split_data` function is working if the statement *\"Successfully shuffled and split the data!\"* is printed."
   ]
  },
  {
   "cell_type": "code",
   "execution_count": 84,
   "metadata": {
    "collapsed": false
   },
   "outputs": [
    {
     "name": "stdout",
     "output_type": "stream",
     "text": [
      "Successfully shuffled and split the data!\n"
     ]
    }
   ],
   "source": [
    "# Put any import statements you need for this code block here\n",
    "from sklearn import cross_validation\n",
    "\n",
    "def shuffle_split_data(X, y):\n",
    "    \"\"\" Shuffles and splits data into 70% training and 30% testing subsets,\n",
    "        then returns the training and testing subsets. \"\"\"\n",
    "\n",
    "    # Shuffle and split the data\n",
    "    X_train, X_test, y_train, y_test = cross_validation.train_test_split( X, y, test_size=0.3, random_state=42)\n",
    "    \n",
    "    # Return the training and testing data subsets\n",
    "    return X_train, y_train, X_test, y_test\n",
    "\n",
    "\n",
    "# Test shuffle_split_data\n",
    "try:\n",
    "    X_train, y_train, X_test, y_test = shuffle_split_data(housing_features, housing_prices)\n",
    "    print \"Successfully shuffled and split the data!\"\n",
    "except:\n",
    "    print \"Something went wrong with shuffling and splitting the data.\""
   ]
  },
  {
   "cell_type": "markdown",
   "metadata": {},
   "source": [
    "## Question 3\n",
    "*Why do we split the data into training and testing subsets for our model?*"
   ]
  },
  {
   "cell_type": "markdown",
   "metadata": {},
   "source": [
    "**Answer: **\n",
    "To evaluate performance of model generated from train data"
   ]
  },
  {
   "cell_type": "markdown",
   "metadata": {},
   "source": [
    "## Step 3\n",
    "In the code block below, you will need to implement code so that the `performance_metric` function does the following:\n",
    "- Perform a total error calculation between the true values of the `y` labels `y_true` and the predicted values of the `y` labels `y_predict`.\n",
    "\n",
    "You will need to first choose an appropriate performance metric for this problem. See [the sklearn metrics documentation](http://scikit-learn.org/stable/modules/classes.html#sklearn-metrics-metrics) to view a list of available metric functions. **Hint: ** Look at the question below to see a list of the metrics that were covered in the supporting course for this project.\n",
    "\n",
    "Once you have determined which metric you will use, remember to include the necessary import statement as well!  \n",
    "Ensure that you have executed the code block once you are done. You'll know the `performance_metric` function is working if the statement *\"Successfully performed a metric calculation!\"* is printed."
   ]
  },
  {
   "cell_type": "code",
   "execution_count": 86,
   "metadata": {
    "collapsed": false
   },
   "outputs": [
    {
     "name": "stdout",
     "output_type": "stream",
     "text": [
      "0.0\n",
      "Successfully performed a metric calculation!\n"
     ]
    }
   ],
   "source": [
    "# Put any import statements you need for this code block here\n",
    "from sklearn.metrics import accuracy_score\n",
    "from sklearn.metrics import precision_score\n",
    "from sklearn.metrics import recall_score\n",
    "from sklearn.metrics import f1_score\n",
    "from sklearn.metrics import mean_squared_error\n",
    "from sklearn.metrics import mean_absolute_error\n",
    "\n",
    "def performance_metric(y_true, y_predict):\n",
    "    \"\"\" Calculates and returns the total error between true and predicted values\n",
    "        based on a performance metric chosen by the student. \"\"\"\n",
    "    #print y_true, y_predict\n",
    "    #error = 1 - accuracy_score(y_true, y_predict)\n",
    "    #print error\n",
    "    #error = 1 - precision_score(y_true, y_predict, average='macro')\n",
    "    #print error\n",
    "    #error = 1 - recall_score(y_true, y_predict, average='macro')\n",
    "    #print error \n",
    "    #error = 1 - f1_score(y_true, y_predict, average='macro')\n",
    "    #print error\n",
    "    error = mean_squared_error(y_true, y_predict)\n",
    "    print error\n",
    "    #error = mean_absolute_error(y_true, y_predict)\n",
    "    #print error\n",
    "    return error\n",
    "\n",
    "\n",
    "# Test performance_metric\n",
    "try:\n",
    "    total_error = performance_metric(y_train, y_train)\n",
    "    print \"Successfully performed a metric calculation!\"\n",
    "except:\n",
    "    print \"Something went wrong with performing a metric calculation.\""
   ]
  },
  {
   "cell_type": "markdown",
   "metadata": {},
   "source": [
    "## Question 4\n",
    "*Which performance metric below did you find was most appropriate for predicting housing prices and analyzing the total error. Why?*\n",
    "- *Accuracy*\n",
    "- *Precision*\n",
    "- *Recall*\n",
    "- *F1 Score*\n",
    "- *Mean Squared Error (MSE)*\n",
    "- *Mean Absolute Error (MAE)*"
   ]
  },
  {
   "cell_type": "markdown",
   "metadata": {},
   "source": [
    "**Answer: **\n",
    "Mean Squared Error (MSE). Because of model is regression based"
   ]
  },
  {
   "cell_type": "markdown",
   "metadata": {},
   "source": [
    "## Step 4 (Final Step)\n",
    "In the code block below, you will need to implement code so that the `fit_model` function does the following:\n",
    "- Create a scoring function using the same performance metric as in **Step 2**. See the [sklearn `make_scorer` documentation](http://scikit-learn.org/stable/modules/generated/sklearn.metrics.make_scorer.html).\n",
    "- Build a GridSearchCV object using `regressor`, `parameters`, and `scoring_function`. See the [sklearn documentation on GridSearchCV](http://scikit-learn.org/stable/modules/generated/sklearn.grid_search.GridSearchCV.html).\n",
    "\n",
    "When building the scoring function and GridSearchCV object, *be sure that you read the parameters documentation thoroughly.* It is not always the case that a default parameter for a function is the appropriate setting for the problem you are working on.\n",
    "\n",
    "Since you are using `sklearn` functions, remember to include the necessary import statements below as well!  \n",
    "Ensure that you have executed the code block once you are done. You'll know the `fit_model` function is working if the statement *\"Successfully fit a model to the data!\"* is printed."
   ]
  },
  {
   "cell_type": "code",
   "execution_count": 87,
   "metadata": {
    "collapsed": false
   },
   "outputs": [
    {
     "name": "stdout",
     "output_type": "stream",
     "text": [
      "Successfully fit a model!\n"
     ]
    }
   ],
   "source": [
    "# Put any import statements you need for this code block\n",
    "from sklearn.metrics import mean_squared_error, make_scorer\n",
    "from sklearn.grid_search import GridSearchCV\n",
    "\n",
    "def fit_model(X, y):\n",
    "    \"\"\" Tunes a decision tree regressor model using GridSearchCV on the input data X \n",
    "        and target labels y and returns this optimal model. \"\"\"\n",
    "\n",
    "    # Create a decision tree regressor object\n",
    "    regressor = DecisionTreeRegressor()\n",
    "\n",
    "    # Set up the parameters we wish to tune\n",
    "    parameters = {'max_depth':(1,2,3,4,5,6,7,8,9,10)}\n",
    "\n",
    "    # Make an appropriate scoring function\n",
    "    scoring_function = make_scorer(mean_squared_error)\n",
    "\n",
    "    # Make the GridSearchCV object\n",
    "    reg = GridSearchCV(regressor, parameters,\n",
    "                       scoring=scoring_function)\n",
    "\n",
    "    # Fit the learner to the data to obtain the optimal model with tuned parameters\n",
    "    reg.fit(X, y)\n",
    "\n",
    "    # Return the optimal model\n",
    "    return reg.best_estimator_\n",
    "\n",
    "\n",
    "# Test fit_model on entire dataset\n",
    "try:\n",
    "    reg = fit_model(housing_features, housing_prices)\n",
    "    print \"Successfully fit a model!\"\n",
    "except:\n",
    "    print \"Something went wrong with fitting a model.\""
   ]
  },
  {
   "cell_type": "markdown",
   "metadata": {},
   "source": [
    "## Question 5\n",
    "*What is the grid search algorithm and when is it applicable?*"
   ]
  },
  {
   "cell_type": "markdown",
   "metadata": {},
   "source": [
    "**Answer: **\n",
    "Uses grid of parameters to fit a model and picks the best one"
   ]
  },
  {
   "cell_type": "markdown",
   "metadata": {},
   "source": [
    "## Question 6\n",
    "*What is cross-validation, and how is it performed on a model? Why would cross-validation be helpful when using grid search?*"
   ]
  },
  {
   "cell_type": "markdown",
   "metadata": {},
   "source": [
    "**Answer: **\n",
    "cross-validation is used to split data in train and test sets for validating the model. Grid search means you have a set of models (which differ from each other in their parameter values, which lie on a grid) and  train each of the models and evaluate it using cross-validation. You then select the one that performed best."
   ]
  },
  {
   "cell_type": "markdown",
   "metadata": {},
   "source": [
    "# Checkpoint!\n",
    "You have now successfully completed your last code implementation section. Pat yourself on the back! All of your functions written above will be executed in the remaining sections below, and questions will be asked about various results for you to analyze. To prepare the **Analysis** and **Prediction** sections, you will need to intialize the two functions below. Remember, there's no need to implement any more code, so sit back and execute the code blocks! Some code comments are provided if you find yourself interested in the functionality."
   ]
  },
  {
   "cell_type": "code",
   "execution_count": 88,
   "metadata": {
    "collapsed": true
   },
   "outputs": [],
   "source": [
    "def learning_curves(X_train, y_train, X_test, y_test):\n",
    "    \"\"\" Calculates the performance of several models with varying sizes of training data.\n",
    "        The learning and testing error rates for each model are then plotted. \"\"\"\n",
    "    \n",
    "    print \"Creating learning curve graphs for max_depths of 1, 3, 6, and 10. . .\"\n",
    "    \n",
    "    # Create the figure window\n",
    "    fig = pl.figure(figsize=(10,8))\n",
    "\n",
    "    # We will vary the training set size so that we have 50 different sizes\n",
    "    sizes = np.rint(np.linspace(1, len(X_train), 50)).astype(int)\n",
    "    train_err = np.zeros(len(sizes))\n",
    "    test_err = np.zeros(len(sizes))\n",
    "\n",
    "    # Create four different models based on max_depth\n",
    "    for k, depth in enumerate([1,3,6,10]):\n",
    "        \n",
    "        for i, s in enumerate(sizes):\n",
    "            \n",
    "            # Setup a decision tree regressor so that it learns a tree with max_depth = depth\n",
    "            regressor = DecisionTreeRegressor(max_depth = depth)\n",
    "            \n",
    "            # Fit the learner to the training data\n",
    "            regressor.fit(X_train[:s], y_train[:s])\n",
    "\n",
    "            # Find the performance on the training set\n",
    "            train_err[i] = performance_metric(y_train[:s], regressor.predict(X_train[:s]))\n",
    "            \n",
    "            # Find the performance on the testing set\n",
    "            test_err[i] = performance_metric(y_test, regressor.predict(X_test))\n",
    "\n",
    "        # Subplot the learning curve graph\n",
    "        ax = fig.add_subplot(2, 2, k+1)\n",
    "        ax.plot(sizes, test_err, lw = 2, label = 'Testing Error')\n",
    "        ax.plot(sizes, train_err, lw = 2, label = 'Training Error')\n",
    "        ax.legend()\n",
    "        ax.set_title('max_depth = %s'%(depth))\n",
    "        ax.set_xlabel('Number of Data Points in Training Set')\n",
    "        ax.set_ylabel('Total Error')\n",
    "        ax.set_xlim([0, len(X_train)])\n",
    "    \n",
    "    # Visual aesthetics\n",
    "    fig.suptitle('Decision Tree Regressor Learning Performances', fontsize=18, y=1.03)\n",
    "    fig.tight_layout()\n",
    "    fig.show()"
   ]
  },
  {
   "cell_type": "code",
   "execution_count": 89,
   "metadata": {
    "collapsed": true
   },
   "outputs": [],
   "source": [
    "def model_complexity(X_train, y_train, X_test, y_test):\n",
    "    \"\"\" Calculates the performance of the model as model complexity increases.\n",
    "        The learning and testing errors rates are then plotted. \"\"\"\n",
    "    \n",
    "    print \"Creating a model complexity graph. . . \"\n",
    "\n",
    "    # We will vary the max_depth of a decision tree model from 1 to 14\n",
    "    max_depth = np.arange(1, 14)\n",
    "    train_err = np.zeros(len(max_depth))\n",
    "    test_err = np.zeros(len(max_depth))\n",
    "\n",
    "    for i, d in enumerate(max_depth):\n",
    "        # Setup a Decision Tree Regressor so that it learns a tree with depth d\n",
    "        regressor = DecisionTreeRegressor(max_depth = d)\n",
    "\n",
    "        # Fit the learner to the training data\n",
    "        regressor.fit(X_train, y_train)\n",
    "\n",
    "        # Find the performance on the training set\n",
    "        train_err[i] = performance_metric(y_train, regressor.predict(X_train))\n",
    "\n",
    "        # Find the performance on the testing set\n",
    "        test_err[i] = performance_metric(y_test, regressor.predict(X_test))\n",
    "\n",
    "    # Plot the model complexity graph\n",
    "    pl.figure(figsize=(7, 5))\n",
    "    pl.title('Decision Tree Regressor Complexity Performance')\n",
    "    pl.plot(max_depth, test_err, lw=2, label = 'Testing Error')\n",
    "    pl.plot(max_depth, train_err, lw=2, label = 'Training Error')\n",
    "    pl.legend()\n",
    "    pl.xlabel('Maximum Depth')\n",
    "    pl.ylabel('Total Error')\n",
    "    pl.show()"
   ]
  },
  {
   "cell_type": "markdown",
   "metadata": {},
   "source": [
    "# Analyzing Model Performance\n",
    "In this third section of the project, you'll take a look at several models' learning and testing error rates on various subsets of training data. Additionally, you'll investigate one particular algorithm with an increasing `max_depth` parameter on the full training set to observe how model complexity affects learning and testing errors. Graphing your model's performance based on varying criteria can be beneficial in the analysis process, such as visualizing behavior that may not have been apparent from the results alone."
   ]
  },
  {
   "cell_type": "code",
   "execution_count": 90,
   "metadata": {
    "collapsed": false
   },
   "outputs": [
    {
     "name": "stdout",
     "output_type": "stream",
     "text": [
      "Creating learning curve graphs for max_depths of 1, 3, 6, and 10. . .\n",
      "0.0\n",
      "127.687894737\n",
      "20.7171428571\n",
      "87.1089581096\n",
      "36.4032820513\n",
      "48.632061663\n",
      "28.3840072464\n",
      "47.3724132675\n",
      "29.7740961538\n",
      "45.4853620854\n",
      "34.1286148649\n",
      "52.7740820313\n",
      "35.5053318903\n",
      "51.3486084258\n",
      "34.2167009026\n",
      "51.3968791025\n",
      "38.9409880995\n",
      "53.0086859975\n",
      "38.6603021507\n",
      "52.4574564851\n",
      "44.7293108038\n",
      "48.2462624333\n",
      "45.9230270775\n",
      "53.1933945244\n",
      "48.9279605355\n",
      "51.6146272189\n",
      "47.9075312606\n",
      "50.6039566954\n",
      "46.8575443511\n",
      "50.3590511165\n",
      "46.0007806903\n",
      "47.7392247628\n",
      "45.7878024047\n",
      "47.300394828\n",
      "44.747544368\n",
      "47.8850097387\n",
      "44.2009326193\n",
      "47.9230672623\n",
      "42.8446989119\n",
      "47.9629297829\n",
      "44.4143524114\n",
      "48.5292596878\n",
      "43.4688157895\n",
      "48.2826973684\n",
      "44.8095668684\n",
      "49.4225493948\n",
      "45.1807044969\n",
      "49.3061826118\n",
      "44.5845291747\n",
      "49.2165124254\n",
      "47.4758811989\n",
      "50.4468505381\n",
      "46.3593977851\n",
      "50.3580691145\n",
      "45.6464001841\n",
      "48.9747197932\n",
      "46.8863551701\n",
      "48.8219933974\n",
      "46.6449992772\n",
      "50.2532458302\n",
      "46.3855246431\n",
      "50.128944174\n",
      "46.8398511635\n",
      "50.0042595894\n",
      "49.1150120701\n",
      "49.863993742\n",
      "49.3949921926\n",
      "44.6810970797\n",
      "48.9134962046\n",
      "44.6837675669\n",
      "48.4289086386\n",
      "50.480975781\n",
      "48.0839429172\n",
      "44.8209509372\n",
      "48.4081642184\n",
      "50.5611205195\n",
      "48.0390258402\n",
      "50.5385374593\n",
      "48.3060093595\n",
      "50.2747543041\n",
      "47.8150401895\n",
      "48.3069365538\n",
      "47.7966439224\n",
      "48.0279411849\n",
      "47.5589780879\n",
      "43.3863179989\n",
      "46.7847569426\n",
      "43.3761201794\n",
      "46.3979162217\n",
      "48.0907783253\n",
      "45.9606703659\n",
      "47.8503398655\n",
      "46.6745665046\n",
      "47.9239175057\n",
      "48.4362863023\n",
      "43.5545209068\n",
      "47.8924975707\n",
      "43.5016624299\n",
      "47.4115481892\n",
      "43.524834386\n",
      "0.0\n",
      "127.687894737\n",
      "0.561458333333\n",
      "64.3677320906\n",
      "2.55233333333\n",
      "64.5464309211\n",
      "6.32154731458\n",
      "45.0895934256\n",
      "5.66973888889\n",
      "55.3853356177\n",
      "6.2542027027\n",
      "56.3525353618\n",
      "5.97387310606\n",
      "46.0987664474\n",
      "6.3065270775\n",
      "40.8298052445\n",
      "7.55677845036\n",
      "36.6811595093\n",
      "8.57402146465\n",
      "38.3040227522\n",
      "11.6610023918\n",
      "47.6933594237\n",
      "8.46707361111\n",
      "27.2817708151\n",
      "12.6760114708\n",
      "45.3292329236\n",
      "10.3871771474\n",
      "33.0120210695\n",
      "10.0062285247\n",
      "33.1164341471\n",
      "13.1180859936\n",
      "34.4224738931\n",
      "11.0532188013\n",
      "32.8848086063\n",
      "11.3456683184\n",
      "28.930706021\n",
      "11.4237648605\n",
      "33.6398609227\n",
      "11.5935585608\n",
      "29.3280425172\n",
      "11.2709284608\n",
      "29.5604411799\n",
      "11.6622582548\n",
      "32.4984368975\n",
      "12.7965573695\n",
      "29.3738839448\n",
      "12.2276559934\n",
      "30.2893784545\n",
      "11.9724524958\n",
      "30.325262848\n",
      "12.166004233\n",
      "36.8415568166\n",
      "11.942240158\n",
      "36.813858982\n",
      "12.6263836205\n",
      "29.879727556\n",
      "13.1888875167\n",
      "28.3745005094\n",
      "13.3164908776\n",
      "33.2937921493\n",
      "13.1356870911\n",
      "32.9794404083\n",
      "14.7874919563\n",
      "28.1931048927\n",
      "14.9738726556\n",
      "28.8194051819\n",
      "14.0535548505\n",
      "23.1538949484\n",
      "13.9826388808\n",
      "30.4434104294\n",
      "13.7302895576\n",
      "32.5707269828\n",
      "14.920880119\n",
      "23.7116113527\n",
      "14.351480307\n",
      "34.2028820784\n",
      "14.3414012823\n",
      "33.6695359348\n",
      "14.1779132336\n",
      "33.5038972592\n",
      "14.9312917225\n",
      "23.9937767475\n",
      "15.5013798961\n",
      "24.0531947016\n",
      "15.3172796458\n",
      "19.9459104567\n",
      "15.0258382839\n",
      "19.9530304862\n",
      "15.0918005469\n",
      "24.0785377375\n",
      "15.0284279059\n",
      "24.0549249528\n",
      "15.041697336\n",
      "23.9700458955\n",
      "14.9933871549\n",
      "19.6811413423\n",
      "15.4023183158\n",
      "16.9497325302\n",
      "15.3679661018\n",
      "19.1073065395\n",
      "0.0\n",
      "127.687894737\n",
      "0.0\n",
      "89.4961842105\n",
      "0.0207777777778\n",
      "71.4374342105\n",
      "1.24782608696\n",
      "51.9438815789\n",
      "1.31655555556\n",
      "60.0000785819\n",
      "0.956824324324\n",
      "43.1374876645\n",
      "1.02617207792\n",
      "43.6441165548\n",
      "0.915699346405\n",
      "46.0360612573\n",
      "1.13758205542\n",
      "27.4643474769\n",
      "1.06815151515\n",
      "43.2589018275\n",
      "0.964741561465\n",
      "44.0793669352\n",
      "0.948208129085\n",
      "22.4680548461\n",
      "1.01456166758\n",
      "22.8495843424\n",
      "0.882791353383\n",
      "36.0029128951\n",
      "0.99227564649\n",
      "38.547043434\n",
      "1.18349570409\n",
      "34.9461665735\n",
      "1.92283769966\n",
      "29.6364899259\n",
      "1.67931111111\n",
      "24.5095689759\n",
      "2.48952312843\n",
      "30.8984571067\n",
      "2.10578984269\n",
      "28.9410549744\n",
      "2.18057822063\n",
      "30.5774830579\n",
      "2.33040949434\n",
      "25.8093135425\n",
      "2.17039455042\n",
      "28.6986425854\n",
      "2.39669951095\n",
      "24.9219193463\n",
      "2.56668171101\n",
      "26.4095599102\n",
      "2.78790706012\n",
      "37.9350668915\n",
      "2.58684002857\n",
      "38.7657159967\n",
      "2.41239808442\n",
      "27.0002454895\n",
      "2.55508894736\n",
      "23.1925505759\n",
      "2.91209101472\n",
      "25.3724208452\n",
      "2.9645422888\n",
      "25.3417505856\n",
      "2.70907552589\n",
      "19.0788054663\n",
      "2.65675677507\n",
      "20.2670128541\n",
      "3.21994644579\n",
      "25.6810359288\n",
      "3.39413194168\n",
      "24.5195395003\n",
      "3.71853873821\n",
      "22.5632008402\n",
      "3.43266070359\n",
      "27.030265334\n",
      "3.40309880454\n",
      "25.4713446034\n",
      "3.75632674962\n",
      "25.6440527489\n",
      "3.59516494409\n",
      "21.6221617485\n",
      "3.8461074777\n",
      "17.0674400208\n",
      "4.35948837618\n",
      "16.3764128129\n",
      "3.9664918947\n",
      "17.6692909425\n",
      "3.90281966327\n",
      "11.0058385146\n",
      "4.22877902861\n",
      "17.378922134\n",
      "4.24687742604\n",
      "17.1737338435\n",
      "4.37876127325\n",
      "16.3425985583\n",
      "3.97242914235\n",
      "19.5252938645\n",
      "4.36862308974\n",
      "15.8002292252\n",
      "4.63741393469\n",
      "10.8380584442\n",
      "0.0\n",
      "127.687894737\n",
      "0.0\n",
      "84.0765131579\n",
      "0.0\n",
      "42.7118421053\n",
      "0.000289855072464\n",
      "74.094254386\n",
      "0.0146666666667\n",
      "56.1221052632\n",
      "0.00193693693694\n",
      "38.5097331871\n",
      "0.00166666666667\n",
      "38.4175292398\n",
      "0.00130718954248\n",
      "49.2419444444\n",
      "0.00347457627119\n",
      "33.3465460526\n",
      "0.0108636363636\n",
      "45.3726717105\n",
      "0.0103698630137\n",
      "44.5427460526\n",
      "0.00957291666667\n",
      "21.8767265168\n",
      "0.0433333333333\n",
      "24.8202467105\n",
      "0.00680701754386\n",
      "38.6925\n",
      "0.00730065359477\n",
      "33.2820032895\n",
      "0.0118348623853\n",
      "37.3870650585\n",
      "0.0233210180624\n",
      "34.6451341896\n",
      "0.0701442121564\n",
      "26.9955876436\n",
      "0.158347509996\n",
      "30.7686170978\n",
      "0.021847826087\n",
      "29.7372039474\n",
      "0.0552011494253\n",
      "30.1525575658\n",
      "0.326363081617\n",
      "26.4881934562\n",
      "0.136006289308\n",
      "31.4144206871\n",
      "0.131757342458\n",
      "22.8125469925\n",
      "0.145713122605\n",
      "24.2973237162\n",
      "0.227758747698\n",
      "36.1146168311\n",
      "0.27265447695\n",
      "36.7644796018\n",
      "0.130045068027\n",
      "22.9769942982\n",
      "0.126307881773\n",
      "21.2614782895\n",
      "0.328302597403\n",
      "24.2994676537\n",
      "0.220912442396\n",
      "25.3636546784\n",
      "0.315580879282\n",
      "20.5641540211\n",
      "0.301180480918\n",
      "22.39838173\n",
      "0.445689589815\n",
      "19.6516282647\n",
      "0.280037632939\n",
      "26.3767363621\n",
      "0.808043698687\n",
      "22.5349848468\n",
      "0.252681410256\n",
      "29.6948398575\n",
      "0.236006130064\n",
      "28.0856891974\n",
      "0.529463896104\n",
      "27.9271548026\n",
      "0.461309692671\n",
      "22.2583990497\n",
      "0.871776547959\n",
      "15.7558580019\n",
      "0.55634412125\n",
      "18.2510565664\n",
      "0.293522054426\n",
      "21.5021712063\n",
      "0.395742351164\n",
      "24.0088075412\n",
      "0.639464510332\n",
      "18.796038959\n",
      "0.686851648352\n",
      "18.949290945\n",
      "0.94330171878\n",
      "16.3049347042\n",
      "0.56116965265\n",
      "11.8504925829\n",
      "0.404881952582\n",
      "22.2614000231\n",
      "1.00869038019\n",
      "18.655945462\n"
     ]
    },
    {
     "data": {
      "image/png": "[encoded data removed]",
      "text/plain": [
       "<matplotlib.figure.Figure at 0x10d1f4a50>"
      ]
     },
     "metadata": {},
     "output_type": "display_data"
    }
   ],
   "source": [
    "learning_curves(X_train, y_train, X_test, y_test)"
   ]
  },
  {
   "cell_type": "markdown",
   "metadata": {},
   "source": [
    "## Question 7\n",
    "*Choose one of the learning curve graphs that are created above. What is the max depth for the chosen model? As the size of the training set increases, what happens to the training error? What happens to the testing error?*"
   ]
  },
  {
   "cell_type": "markdown",
   "metadata": {},
   "source": [
    "**Answer: **\n",
    "Max depth 1. Training eror incrased intially and stabilized after 100 samples of traininging data. Testing error too reduced dramatically in the begging and stabilized around 100 samples."
   ]
  },
  {
   "cell_type": "markdown",
   "metadata": {},
   "source": [
    "## Question 8\n",
    "*Look at the learning curve graphs for the model with a max depth of 1 and a max depth of 10. When the model is using the full training set, does it suffer from high bias or high variance when the max depth is 1? What about when the max depth is 10?*"
   ]
  },
  {
   "cell_type": "markdown",
   "metadata": {},
   "source": [
    "**Answer: **\n",
    "When max depth is 1 it suffers from high bias and training error is not improving. For max depth 10, testing error is reducing nicely and training error didn't change."
   ]
  },
  {
   "cell_type": "code",
   "execution_count": 91,
   "metadata": {
    "collapsed": false
   },
   "outputs": [
    {
     "name": "stdout",
     "output_type": "stream",
     "text": [
      "Creating a model complexity graph. . . \n",
      "47.4115481892\n",
      "43.524834386\n",
      "26.4092918489\n",
      "24.1538961045\n",
      "15.3679661018\n",
      "19.1073065395\n",
      "8.65160914414\n",
      "20.481389269\n",
      "6.37037760426\n",
      "11.547928245\n",
      "4.63741393469\n",
      "10.8967258647\n",
      "2.69175866764\n",
      "17.733557557\n",
      "1.72370131386\n",
      "18.8030501394\n",
      "1.31141212672\n",
      "10.8828378099\n",
      "1.00869038019\n",
      "10.4438767486\n",
      "0.675786447333\n",
      "10.2613754006\n",
      "0.388385341886\n",
      "11.0398642104\n",
      "0.196024599812\n",
      "19.9507146976\n"
     ]
    },
    {
     "data": {
      "image/png": "[encoded data removed]",
      "text/plain": [
       "<matplotlib.figure.Figure at 0x10c1c5d10>"
      ]
     },
     "metadata": {},
     "output_type": "display_data"
    }
   ],
   "source": [
    "model_complexity(X_train, y_train, X_test, y_test)"
   ]
  },
  {
   "cell_type": "markdown",
   "metadata": {},
   "source": [
    "## Question 9\n",
    "*From the model complexity graph above, describe the training and testing errors as the max depth increases. Based on your interpretation of the graph, which max depth results in a model that best generalizes the dataset? Why?*"
   ]
  },
  {
   "cell_type": "markdown",
   "metadata": {},
   "source": [
    "**Answer: **\n",
    "As max depth increases training errors seems to reduce however, testing errors are not improving as expected. May be with max depth it might be overfitting data. I think max depth 8 seems to be have low training and testing error."
   ]
  },
  {
   "cell_type": "markdown",
   "metadata": {},
   "source": [
    "# Model Prediction\n",
    "In this final section of the project, you will make a prediction on the client's feature set using an optimized model from `fit_model`. When applying grid search along with cross-validation to optimize your model, it would typically be performed and validated on a training set and subsequently evaluated on a **dedicated test set**. In this project, the optimization below is performed on the *entire dataset* (as opposed to the training set you made above) due to the many outliers in the data. Using the entire dataset for training provides for a less volatile prediction at the expense of not testing your model's performance. \n",
    "\n",
    "*To answer the following questions, it is recommended that you run the code blocks several times and use the median or mean value of the results.*"
   ]
  },
  {
   "cell_type": "markdown",
   "metadata": {},
   "source": [
    "## Question 10\n",
    "*Using grid search on the entire dataset, what is the optimal `max_depth` parameter for your model? How does this result compare to your intial intuition?*  \n",
    "**Hint: ** Run the code block below to see the max depth produced by your optimized model."
   ]
  },
  {
   "cell_type": "code",
   "execution_count": 92,
   "metadata": {
    "collapsed": false
   },
   "outputs": [
    {
     "name": "stdout",
     "output_type": "stream",
     "text": [
      "Final model has an optimal max_depth parameter of 1\n"
     ]
    }
   ],
   "source": [
    "print \"Final model has an optimal max_depth parameter of\", reg.get_params()['max_depth']"
   ]
  },
  {
   "cell_type": "markdown",
   "metadata": {},
   "source": [
    "**Answer: **\n",
    "Max depth returned is 1. My intuition of max_depth is is 8."
   ]
  },
  {
   "cell_type": "markdown",
   "metadata": {},
   "source": [
    "## Question 11\n",
    "*With your parameter-tuned model, what is the best selling price for your client's home? How does this selling price compare to the basic statistics you calculated on the dataset?*  \n",
    "\n",
    "**Hint: ** Run the code block below to have your parameter-tuned model make a prediction on the client's home."
   ]
  },
  {
   "cell_type": "code",
   "execution_count": 93,
   "metadata": {
    "collapsed": false
   },
   "outputs": [
    {
     "name": "stdout",
     "output_type": "stream",
     "text": [
      "Predicted value of client's home: 19.934\n"
     ]
    }
   ],
   "source": [
    "sale_price = reg.predict(CLIENT_FEATURES)\n",
    "print \"Predicted value of client's home: {0:.3f}\".format(sale_price[0])"
   ]
  },
  {
   "cell_type": "markdown",
   "metadata": {},
   "source": [
    "**Answer: **\n",
    "Result is 19.934. Which is below median or mean expected price. Mean house price: 22.533\n",
    "Median house price: 21.2"
   ]
  },
  {
   "cell_type": "markdown",
   "metadata": {},
   "source": [
    "## Question 12 (Final Question):\n",
    "*In a few sentences, discuss whether you would use this model or not to predict the selling price of future clients' homes in the Greater Boston area.*"
   ]
  },
  {
   "cell_type": "markdown",
   "metadata": {},
   "source": [
    "**Answer: **\n",
    "I am NOT sure if this model is fitting the data properly. It seems to pick max_depth 1 as best fit and where as the results are poor with max_depth 1. "
   ]
  },
  {
   "cell_type": "code",
   "execution_count": null,
   "metadata": {
    "collapsed": false
   },
   "outputs": [],
   "source": []
  },
  {
   "cell_type": "code",
   "execution_count": null,
   "metadata": {
    "collapsed": false
   },
   "outputs": [],
   "source": []
  },
  {
   "cell_type": "code",
   "execution_count": null,
   "metadata": {
    "collapsed": false
   },
   "outputs": [],
   "source": []
  },
  {
   "cell_type": "code",
   "execution_count": null,
   "metadata": {
    "collapsed": false
   },
   "outputs": [],
   "source": []
  },
  {
   "cell_type": "code",
   "execution_count": null,
   "metadata": {
    "collapsed": false
   },
   "outputs": [],
   "source": []
  },
  {
   "cell_type": "code",
   "execution_count": null,
   "metadata": {
    "collapsed": true
   },
   "outputs": [],
   "source": []
  }
 ],
 "metadata": {
  "kernelspec": {
   "display_name": "Python 2",
   "language": "python",
   "name": "python2"
  },
  "language_info": {
   "codemirror_mode": {
    "name": "ipython",
    "version": 2
   },
   "file_extension": ".py",
   "mimetype": "text/x-python",
   "name": "python",
   "nbconvert_exporter": "python",
   "pygments_lexer": "ipython2",
   "version": "2.7.11"
  }
 },
 "nbformat": 4,
 "nbformat_minor": 0
}
