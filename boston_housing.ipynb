{
 "cells": [
  {
   "cell_type": "markdown",
   "metadata": {},
   "source": [
    "# Machine Learning Engineer Nanodegree\n",
    "## Model Evaluation & Validation\n",
    "## Project 1: Predicting Boston Housing Prices\n",
    "\n",
    "Welcome to the first project of the Machine Learning Engineer Nanodegree! In this notebook, some template code has already been written. You will need to implement additional functionality to successfully answer all of the questions for this project. Unless it is requested, do not modify any of the code that has already been included. In this template code, there are four sections which you must complete to successfully produce a prediction with your model. Each section where you will write code is preceded by a **STEP X** header with comments describing what must be done. Please read the instructions carefully!\n",
    "\n",
    "In addition to implementing code, there will be questions that you must answer that relate to the project and your implementation. Each section where you will answer a question is preceded by a **QUESTION X** header. Be sure that you have carefully read each question and provide thorough answers in the text boxes that begin with \"**Answer:**\". Your project submission will be evaluated based on your answers to each of the questions.  \n",
    "\n",
    "A description of the dataset can be found [here](https://archive.ics.uci.edu/ml/datasets/Housing), which is provided by the **UCI Machine Learning Repository**."
   ]
  },
  {
   "cell_type": "markdown",
   "metadata": {},
   "source": [
    "# Getting Started\n",
    "To familiarize yourself with an iPython Notebook, **try double clicking on this cell**. You will notice that the text changes so that all the formatting is removed. This allows you to make edits to the block of text you see here. This block of text (and mostly anything that's not code) is written using [Markdown](http://daringfireball.net/projects/markdown/syntax), which is a way to format text using headers, links, italics, and many other options! Whether you're editing a Markdown text block or a code block (like the one below), you can use the keyboard shortcut **Shift + Enter** or **Shift + Return** to execute the code or text block. In this case, it will show the formatted text.\n",
    "\n",
    "Let's start by setting up some code we will need to get the rest of the project up and running. Use the keyboard shortcut mentioned above on the following code block to execute it. Alternatively, depending on your iPython Notebook program, you can press the **Play** button in the hotbar. You'll know the code block executes successfully if the message *\"Boston Housing dataset loaded successfully!\"* is printed."
   ]
  },
  {
   "cell_type": "code",
   "execution_count": 63,
   "metadata": {
    "collapsed": false
   },
   "outputs": [
    {
     "name": "stdout",
     "output_type": "stream",
     "text": [
      "Boston Housing dataset loaded successfully!\n"
     ]
    }
   ],
   "source": [
    "# Importing a few necessary libraries\n",
    "import numpy as np\n",
    "import matplotlib.pyplot as pl\n",
    "from sklearn import datasets\n",
    "from sklearn.tree import DecisionTreeRegressor\n",
    "\n",
    "# Make matplotlib show our plots inline (nicely formatted in the notebook)\n",
    "%matplotlib inline\n",
    "\n",
    "# Create our client's feature set for which we will be predicting a selling price\n",
    "CLIENT_FEATURES = [[11.95, 0.00, 18.100, 0, 0.6590, 5.6090, 90.00, 1.385, 24, 680.0, 20.20, 332.09, 12.13]]\n",
    "\n",
    "# Load the Boston Housing dataset into the city_data variable\n",
    "city_data = datasets.load_boston()\n",
    "\n",
    "# Initialize the housing prices and housing features\n",
    "housing_prices = city_data.target\n",
    "housing_features = city_data.data\n",
    "\n",
    "print \"Boston Housing dataset loaded successfully!\""
   ]
  },
  {
   "cell_type": "markdown",
   "metadata": {},
   "source": [
    "# Statistical Analysis and Data Exploration\n",
    "In this first section of the project, you will quickly investigate a few basic statistics about the dataset you are working with. In addition, you'll look at the client's feature set in `CLIENT_FEATURES` and see how this particular sample relates to the features of the dataset. Familiarizing yourself with the data through an explorative process is a fundamental practice to help you better understand your results."
   ]
  },
  {
   "cell_type": "markdown",
   "metadata": {},
   "source": [
    "## Step 1\n",
    "In the code block below, use the imported `numpy` library to calculate the requested statistics. You will need to replace each `None` you find with the appropriate `numpy` coding for the proper statistic to be printed. Be sure to execute the code block each time to test if your implementation is working successfully. The print statements will show the statistics you calculate!"
   ]
  },
  {
   "cell_type": "code",
   "execution_count": 64,
   "metadata": {
    "collapsed": false
   },
   "outputs": [
    {
     "name": "stdout",
     "output_type": "stream",
     "text": [
      "Boston Housing dataset statistics (in $1000's):\n",
      "\n",
      "Total number of houses: 506\n",
      "Total number of features: 13\n",
      "Minimum house price: 5.0\n",
      "Maximum house price: 50.0\n",
      "Mean house price: 22.533\n",
      "Median house price: 21.2\n",
      "Standard deviation of house price: 9.188\n"
     ]
    }
   ],
   "source": [
    "# Number of houses in the dataset\n",
    "#print housing_prices\n",
    "#print housing_features\n",
    "total_houses = housing_features.shape[0]\n",
    "\n",
    "# Number of features in the dataset\n",
    "total_features = housing_features.shape[1]\n",
    "\n",
    "# Minimum housing value in the dataset\n",
    "minimum_price = np.min(housing_prices)\n",
    "\n",
    "# Maximum housing value in the dataset\n",
    "maximum_price = np.max(housing_prices)\n",
    "\n",
    "# Mean house value of the dataset\n",
    "mean_price = np.mean(housing_prices)\n",
    "\n",
    "# Median house value of the dataset\n",
    "median_price = np.median(housing_prices)\n",
    "\n",
    "# Standard deviation of housing values of the dataset\n",
    "std_dev = np.std(housing_prices)\n",
    "\n",
    "# Show the calculated statistics\n",
    "print \"Boston Housing dataset statistics (in $1000's):\\n\"\n",
    "print \"Total number of houses:\", total_houses\n",
    "print \"Total number of features:\", total_features\n",
    "print \"Minimum house price:\", minimum_price\n",
    "print \"Maximum house price:\", maximum_price\n",
    "print \"Mean house price: {0:.3f}\".format(mean_price)\n",
    "print \"Median house price:\", median_price\n",
    "print \"Standard deviation of house price: {0:.3f}\".format(std_dev)"
   ]
  },
  {
   "cell_type": "markdown",
   "metadata": {},
   "source": [
    "## Question 1\n",
    "As a reminder, you can view a description of the Boston Housing dataset [here](https://archive.ics.uci.edu/ml/datasets/Housing), where you can find the different features under **Attribute Information**. The `MEDV` attribute relates to the values stored in our `housing_prices` variable, so we do not consider that a feature of the data.\n",
    "\n",
    "*Of the features available for each data point, choose three that you feel are significant and give a brief description for each of what they measure.*\n",
    "\n",
    "Remember, you can **double click the text box below** to add your answer!"
   ]
  },
  {
   "cell_type": "markdown",
   "metadata": {},
   "source": [
    "**Answer: **\n",
    "    1. CRIM      per capita crime rate by town\n",
    "    6. RM        average number of rooms per dwelling\n",
    "    8. DIS       weighted distances to five Boston employment centres"
   ]
  },
  {
   "cell_type": "markdown",
   "metadata": {},
   "source": [
    "## Question 2\n",
    "*Using your client's feature set `CLIENT_FEATURES`, which values correspond with the features you've chosen above?*  \n",
    "**Hint: ** Run the code block below to see the client's data."
   ]
  },
  {
   "cell_type": "code",
   "execution_count": 65,
   "metadata": {
    "collapsed": false
   },
   "outputs": [
    {
     "name": "stdout",
     "output_type": "stream",
     "text": [
      "[[11.95, 0.0, 18.1, 0, 0.659, 5.609, 90.0, 1.385, 24, 680.0, 20.2, 332.09, 12.13]]\n"
     ]
    }
   ],
   "source": [
    "print CLIENT_FEATURES"
   ]
  },
  {
   "cell_type": "markdown",
   "metadata": {},
   "source": [
    "**Answer: **\n",
    "    1. CRIM      11.95\n",
    "    6. RM        5.609\n",
    "    8. DIS       1.385"
   ]
  },
  {
   "cell_type": "markdown",
   "metadata": {},
   "source": [
    "# Evaluating Model Performance\n",
    "In this second section of the project, you will begin to develop the tools necessary for a model to make a prediction. Being able to accurately evaluate each model's performance through the use of these tools helps to greatly reinforce the confidence in your predictions."
   ]
  },
  {
   "cell_type": "markdown",
   "metadata": {},
   "source": [
    "## Step 2\n",
    "In the code block below, you will need to implement code so that the `shuffle_split_data` function does the following:\n",
    "- Randomly shuffle the input data `X` and target labels (housing values) `y`.\n",
    "- Split the data into training and testing subsets, holding 30% of the data for testing.\n",
    "\n",
    "If you use any functions not already acessible from the imported libraries above, remember to include your import statement below as well!   \n",
    "Ensure that you have executed the code block once you are done. You'll know the `shuffle_split_data` function is working if the statement *\"Successfully shuffled and split the data!\"* is printed."
   ]
  },
  {
   "cell_type": "code",
   "execution_count": 66,
   "metadata": {
    "collapsed": false
   },
   "outputs": [
    {
     "name": "stdout",
     "output_type": "stream",
     "text": [
      "Successfully shuffled and split the data!\n"
     ]
    }
   ],
   "source": [
    "# Put any import statements you need for this code block here\n",
    "from sklearn import cross_validation\n",
    "\n",
    "def shuffle_split_data(X, y):\n",
    "    \"\"\" Shuffles and splits data into 70% training and 30% testing subsets,\n",
    "        then returns the training and testing subsets. \"\"\"\n",
    "\n",
    "    # Shuffle and split the data\n",
    "    X_train, X_test, y_train, y_test = cross_validation.train_test_split( X, y, test_size=0.3, random_state=42)\n",
    "    \n",
    "    # Return the training and testing data subsets\n",
    "    return X_train, y_train, X_test, y_test\n",
    "\n",
    "\n",
    "# Test shuffle_split_data\n",
    "try:\n",
    "    X_train, y_train, X_test, y_test = shuffle_split_data(housing_features, housing_prices)\n",
    "    print \"Successfully shuffled and split the data!\"\n",
    "except:\n",
    "    print \"Something went wrong with shuffling and splitting the data.\""
   ]
  },
  {
   "cell_type": "markdown",
   "metadata": {},
   "source": [
    "## Question 3\n",
    "*Why do we split the data into training and testing subsets for our model?*"
   ]
  },
  {
   "cell_type": "markdown",
   "metadata": {},
   "source": [
    "**Answer: **\n",
    "If we use same data to learn the parameters of a prediction function and testing it, model would exhibit 'overfitting' (Would generate perfect score on test data repeating the labels of the samples that it has just seen but fails to perdiect anything useful on yet-unseen data). Splitting test data into indepenent set gives us a way to experiment our model performence with future (unknown) data. "
   ]
  },
  {
   "cell_type": "markdown",
   "metadata": {},
   "source": [
    "## Step 3\n",
    "In the code block below, you will need to implement code so that the `performance_metric` function does the following:\n",
    "- Perform a total error calculation between the true values of the `y` labels `y_true` and the predicted values of the `y` labels `y_predict`.\n",
    "\n",
    "You will need to first choose an appropriate performance metric for this problem. See [the sklearn metrics documentation](http://scikit-learn.org/stable/modules/classes.html#sklearn-metrics-metrics) to view a list of available metric functions. **Hint: ** Look at the question below to see a list of the metrics that were covered in the supporting course for this project.\n",
    "\n",
    "Once you have determined which metric you will use, remember to include the necessary import statement as well!  \n",
    "Ensure that you have executed the code block once you are done. You'll know the `performance_metric` function is working if the statement *\"Successfully performed a metric calculation!\"* is printed."
   ]
  },
  {
   "cell_type": "code",
   "execution_count": 67,
   "metadata": {
    "collapsed": false
   },
   "outputs": [
    {
     "name": "stdout",
     "output_type": "stream",
     "text": [
      "0.0\n",
      "Successfully performed a metric calculation!\n"
     ]
    }
   ],
   "source": [
    "# Put any import statements you need for this code block here\n",
    "from sklearn.metrics import mean_squared_error\n",
    "from sklearn.metrics import mean_absolute_error\n",
    "\n",
    "def performance_metric(y_true, y_predict):\n",
    "    \"\"\" Calculates and returns the total error between true and predicted values\n",
    "        based on a performance metric chosen by the student. \"\"\"\n",
    "    #print y_true, y_predict\n",
    "    error = mean_squared_error(y_true, y_predict)\n",
    "    print error\n",
    "    #error = mean_absolute_error(y_true, y_predict)\n",
    "    #print error\n",
    "    return error\n",
    "\n",
    "\n",
    "# Test performance_metric\n",
    "try:\n",
    "    total_error = performance_metric(y_train, y_train)\n",
    "    print \"Successfully performed a metric calculation!\"\n",
    "except:\n",
    "    print \"Something went wrong with performing a metric calculation.\""
   ]
  },
  {
   "cell_type": "markdown",
   "metadata": {},
   "source": [
    "## Question 4\n",
    "*Which performance metric below did you find was most appropriate for predicting housing prices and analyzing the total error. Why?*\n",
    "- *Accuracy*\n",
    "- *Precision*\n",
    "- *Recall*\n",
    "- *F1 Score*\n",
    "- *Mean Squared Error (MSE)*\n",
    "- *Mean Absolute Error (MAE)*"
   ]
  },
  {
   "cell_type": "markdown",
   "metadata": {},
   "source": [
    "**Answer: **\n",
    "For regression based models - Mean Squared Error (MSE) or MAE are appropriate. In this specific case we want model to be sensitive large errors (predicted vs actual) in predicting prices instead of just scaled weight which underplays  errors when overfitting."
   ]
  },
  {
   "cell_type": "markdown",
   "metadata": {},
   "source": [
    "## Step 4 (Final Step)\n",
    "In the code block below, you will need to implement code so that the `fit_model` function does the following:\n",
    "- Create a scoring function using the same performance metric as in **Step 2**. See the [sklearn `make_scorer` documentation](http://scikit-learn.org/stable/modules/generated/sklearn.metrics.make_scorer.html).\n",
    "- Build a GridSearchCV object using `regressor`, `parameters`, and `scoring_function`. See the [sklearn documentation on GridSearchCV](http://scikit-learn.org/stable/modules/generated/sklearn.grid_search.GridSearchCV.html).\n",
    "\n",
    "When building the scoring function and GridSearchCV object, *be sure that you read the parameters documentation thoroughly.* It is not always the case that a default parameter for a function is the appropriate setting for the problem you are working on.\n",
    "\n",
    "Since you are using `sklearn` functions, remember to include the necessary import statements below as well!  \n",
    "Ensure that you have executed the code block once you are done. You'll know the `fit_model` function is working if the statement *\"Successfully fit a model to the data!\"* is printed."
   ]
  },
  {
   "cell_type": "code",
   "execution_count": 68,
   "metadata": {
    "collapsed": false
   },
   "outputs": [
    {
     "name": "stdout",
     "output_type": "stream",
     "text": [
      "Successfully fit a model!\n"
     ]
    }
   ],
   "source": [
    "# Put any import statements you need for this code block\n",
    "from sklearn.metrics import mean_squared_error, make_scorer\n",
    "from sklearn.grid_search import GridSearchCV\n",
    "\n",
    "def fit_model(X, y):\n",
    "    \"\"\" Tunes a decision tree regressor model using GridSearchCV on the input data X \n",
    "        and target labels y and returns this optimal model. \"\"\"\n",
    "\n",
    "    # Create a decision tree regressor object\n",
    "    regressor = DecisionTreeRegressor()\n",
    "\n",
    "    # Set up the parameters we wish to tune\n",
    "    parameters = {'max_depth':(1,2,3,4,5,6,7,8,9,10)}\n",
    "\n",
    "    # Make an appropriate scoring function\n",
    "    scoring_function = make_scorer(mean_squared_error, greater_is_better=False)\n",
    "\n",
    "    # Make the GridSearchCV object\n",
    "    reg = GridSearchCV(regressor, parameters,\n",
    "                       scoring=scoring_function)\n",
    "\n",
    "    # Fit the learner to the data to obtain the optimal model with tuned parameters\n",
    "    reg.fit(X, y)\n",
    "\n",
    "    # Return the optimal model\n",
    "    return reg.best_estimator_\n",
    "\n",
    "\n",
    "# Test fit_model on entire dataset\n",
    "try:\n",
    "    reg = fit_model(housing_features, housing_prices)\n",
    "    print \"Successfully fit a model!\"\n",
    "except:\n",
    "    print \"Something went wrong with fitting a model.\""
   ]
  },
  {
   "cell_type": "markdown",
   "metadata": {},
   "source": [
    "## Question 5\n",
    "*What is the grid search algorithm and when is it applicable?*"
   ]
  },
  {
   "cell_type": "markdown",
   "metadata": {},
   "source": [
    "**Answer: **\n",
    "Uses grid of parameters to fit a model and picks the best one. It is used in model parameter tuning with exhaustive search. In this specific case, we want to use cross validation to find best fit with max_depth parameters  1 to 10."
   ]
  },
  {
   "cell_type": "markdown",
   "metadata": {},
   "source": [
    "## Question 6\n",
    "*What is cross-validation, and how is it performed on a model? Why would cross-validation be helpful when using grid search?*"
   ]
  },
  {
   "cell_type": "markdown",
   "metadata": {},
   "source": [
    "**Answer: **\n",
    "Cross-validation is a model validation technique avoids the possible bias introduced by relying on any one particular division ((conventional validation) into test and train components , instead partition the original set in several different ways(multi-fold) for good distribution, spread of samples and  computes an average score over the different partitions, ...Grid search tries to find best fit model given different hiper paramters exhaustively and using cross validation data provides indepent multiple data sets to compare the models."
   ]
  },
  {
   "cell_type": "markdown",
   "metadata": {},
   "source": [
    "# Checkpoint!\n",
    "You have now successfully completed your last code implementation section. Pat yourself on the back! All of your functions written above will be executed in the remaining sections below, and questions will be asked about various results for you to analyze. To prepare the **Analysis** and **Prediction** sections, you will need to intialize the two functions below. Remember, there's no need to implement any more code, so sit back and execute the code blocks! Some code comments are provided if you find yourself interested in the functionality."
   ]
  },
  {
   "cell_type": "code",
   "execution_count": 69,
   "metadata": {
    "collapsed": true
   },
   "outputs": [],
   "source": [
    "def learning_curves(X_train, y_train, X_test, y_test):\n",
    "    \"\"\" Calculates the performance of several models with varying sizes of training data.\n",
    "        The learning and testing error rates for each model are then plotted. \"\"\"\n",
    "    \n",
    "    print \"Creating learning curve graphs for max_depths of 1, 3, 6, and 10. . .\"\n",
    "    \n",
    "    # Create the figure window\n",
    "    fig = pl.figure(figsize=(10,8))\n",
    "\n",
    "    # We will vary the training set size so that we have 50 different sizes\n",
    "    sizes = np.rint(np.linspace(1, len(X_train), 50)).astype(int)\n",
    "    train_err = np.zeros(len(sizes))\n",
    "    test_err = np.zeros(len(sizes))\n",
    "\n",
    "    # Create four different models based on max_depth\n",
    "    for k, depth in enumerate([1,3,6,10]):\n",
    "        \n",
    "        for i, s in enumerate(sizes):\n",
    "            \n",
    "            # Setup a decision tree regressor so that it learns a tree with max_depth = depth\n",
    "            regressor = DecisionTreeRegressor(max_depth = depth)\n",
    "            \n",
    "            # Fit the learner to the training data\n",
    "            regressor.fit(X_train[:s], y_train[:s])\n",
    "\n",
    "            # Find the performance on the training set\n",
    "            train_err[i] = performance_metric(y_train[:s], regressor.predict(X_train[:s]))\n",
    "            \n",
    "            # Find the performance on the testing set\n",
    "            test_err[i] = performance_metric(y_test, regressor.predict(X_test))\n",
    "\n",
    "        # Subplot the learning curve graph\n",
    "        ax = fig.add_subplot(2, 2, k+1)\n",
    "        ax.plot(sizes, test_err, lw = 2, label = 'Testing Error')\n",
    "        ax.plot(sizes, train_err, lw = 2, label = 'Training Error')\n",
    "        ax.legend()\n",
    "        ax.set_title('max_depth = %s'%(depth))\n",
    "        ax.set_xlabel('Number of Data Points in Training Set')\n",
    "        ax.set_ylabel('Total Error')\n",
    "        ax.set_xlim([0, len(X_train)])\n",
    "    \n",
    "    # Visual aesthetics\n",
    "    fig.suptitle('Decision Tree Regressor Learning Performances', fontsize=18, y=1.03)\n",
    "    fig.tight_layout()\n",
    "    fig.show()"
   ]
  },
  {
   "cell_type": "code",
   "execution_count": 70,
   "metadata": {
    "collapsed": true
   },
   "outputs": [],
   "source": [
    "def model_complexity(X_train, y_train, X_test, y_test):\n",
    "    \"\"\" Calculates the performance of the model as model complexity increases.\n",
    "        The learning and testing errors rates are then plotted. \"\"\"\n",
    "    \n",
    "    print \"Creating a model complexity graph. . . \"\n",
    "\n",
    "    # We will vary the max_depth of a decision tree model from 1 to 14\n",
    "    max_depth = np.arange(1, 14)\n",
    "    train_err = np.zeros(len(max_depth))\n",
    "    test_err = np.zeros(len(max_depth))\n",
    "\n",
    "    for i, d in enumerate(max_depth):\n",
    "        # Setup a Decision Tree Regressor so that it learns a tree with depth d\n",
    "        regressor = DecisionTreeRegressor(max_depth = d)\n",
    "\n",
    "        # Fit the learner to the training data\n",
    "        regressor.fit(X_train, y_train)\n",
    "\n",
    "        # Find the performance on the training set\n",
    "        train_err[i] = performance_metric(y_train, regressor.predict(X_train))\n",
    "\n",
    "        # Find the performance on the testing set\n",
    "        test_err[i] = performance_metric(y_test, regressor.predict(X_test))\n",
    "\n",
    "    # Plot the model complexity graph\n",
    "    pl.figure(figsize=(7, 5))\n",
    "    pl.title('Decision Tree Regressor Complexity Performance')\n",
    "    pl.plot(max_depth, test_err, lw=2, label = 'Testing Error')\n",
    "    pl.plot(max_depth, train_err, lw=2, label = 'Training Error')\n",
    "    pl.legend()\n",
    "    pl.xlabel('Maximum Depth')\n",
    "    pl.ylabel('Total Error')\n",
    "    pl.show()"
   ]
  },
  {
   "cell_type": "markdown",
   "metadata": {},
   "source": [
    "# Analyzing Model Performance\n",
    "In this third section of the project, you'll take a look at several models' learning and testing error rates on various subsets of training data. Additionally, you'll investigate one particular algorithm with an increasing `max_depth` parameter on the full training set to observe how model complexity affects learning and testing errors. Graphing your model's performance based on varying criteria can be beneficial in the analysis process, such as visualizing behavior that may not have been apparent from the results alone."
   ]
  },
  {
   "cell_type": "code",
   "execution_count": 71,
   "metadata": {
    "collapsed": false
   },
   "outputs": [
    {
     "name": "stdout",
     "output_type": "stream",
     "text": [
      "Creating learning curve graphs for max_depths of 1, 3, 6, and 10. . .\n",
      "0.0\n",
      "127.687894737\n",
      "20.7171428571\n",
      "93.7982814178\n",
      "36.4032820513\n",
      "48.632061663\n",
      "28.3840072464\n",
      "47.3724132675\n",
      "29.7740961538\n",
      "45.4853620854\n",
      "34.1286148649\n",
      "52.7740820313\n",
      "35.5053318903\n",
      "51.3486084258\n",
      "34.2167009026\n",
      "51.3968791025\n",
      "38.9409880995\n",
      "53.0086859975\n",
      "38.6603021507\n",
      "52.4574564851\n",
      "44.7293108038\n",
      "48.2462624333\n",
      "45.9230270775\n",
      "53.1933945244\n",
      "48.9279605355\n",
      "51.6146272189\n",
      "47.9075312606\n",
      "50.6039566954\n",
      "46.8575443511\n",
      "50.3590511165\n",
      "46.0007806903\n",
      "47.7392247628\n",
      "45.7878024047\n",
      "47.300394828\n",
      "44.747544368\n",
      "47.8850097387\n",
      "44.2009326193\n",
      "47.9230672623\n",
      "42.8446989119\n",
      "47.9629297829\n",
      "44.4143524114\n",
      "48.5292596878\n",
      "43.4688157895\n",
      "48.2826973684\n",
      "44.8095668684\n",
      "49.4225493948\n",
      "45.1807044969\n",
      "49.3061826118\n",
      "44.5845291747\n",
      "49.2165124254\n",
      "47.4758811989\n",
      "50.4468505381\n",
      "46.3593977851\n",
      "50.3580691145\n",
      "45.6464001841\n",
      "48.9747197932\n",
      "46.8863551701\n",
      "48.8219933974\n",
      "46.6449992772\n",
      "50.2532458302\n",
      "46.3855246431\n",
      "50.128944174\n",
      "46.8398511635\n",
      "50.0042595894\n",
      "49.1150120701\n",
      "49.863993742\n",
      "49.3949921926\n",
      "44.6810970797\n",
      "48.9134962046\n",
      "44.6837675669\n",
      "48.4289086386\n",
      "50.480975781\n",
      "48.0839429172\n",
      "44.8209509372\n",
      "48.4081642184\n",
      "50.5611205195\n",
      "48.0390258402\n",
      "50.5385374593\n",
      "48.3060093595\n",
      "50.2747543041\n",
      "47.8150401895\n",
      "48.3069365538\n",
      "47.7966439224\n",
      "48.0279411849\n",
      "47.5589780879\n",
      "43.3863179989\n",
      "46.7847569426\n",
      "43.3761201794\n",
      "46.3979162217\n",
      "48.0907783253\n",
      "45.9606703659\n",
      "47.8503398655\n",
      "46.6745665046\n",
      "47.9239175057\n",
      "48.4362863023\n",
      "43.5545209068\n",
      "47.8924975707\n",
      "43.5016624299\n",
      "47.4115481892\n",
      "43.524834386\n",
      "0.0\n",
      "127.687894737\n",
      "0.561458333333\n",
      "70.9969572368\n",
      "2.55233333333\n",
      "60.6216447368\n",
      "6.32154731458\n",
      "45.58964641\n",
      "5.66973888889\n",
      "60.3334081506\n",
      "6.2542027027\n",
      "57.3375559211\n",
      "5.97387310606\n",
      "38.4160690789\n",
      "6.3065270775\n",
      "43.2085333147\n",
      "7.55677845036\n",
      "39.519808462\n",
      "8.57402146465\n",
      "52.8866944216\n",
      "11.6610023918\n",
      "43.9232369076\n",
      "8.46707361111\n",
      "27.2817708151\n",
      "12.6760114708\n",
      "45.3292329236\n",
      "10.3871771474\n",
      "33.0120210695\n",
      "10.0062285247\n",
      "33.1164341471\n",
      "13.1180859936\n",
      "38.527737051\n",
      "11.0532188013\n",
      "32.8848086063\n",
      "11.3456683184\n",
      "28.930706021\n",
      "11.4237648605\n",
      "33.6398609227\n",
      "11.5935585608\n",
      "29.3280425172\n",
      "11.2709284608\n",
      "29.5604411799\n",
      "11.6622582548\n",
      "32.4984368975\n",
      "12.7965573695\n",
      "29.3738839448\n",
      "12.2276559934\n",
      "30.2893784545\n",
      "11.9724524958\n",
      "30.325262848\n",
      "12.166004233\n",
      "36.8415568166\n",
      "11.942240158\n",
      "36.813858982\n",
      "12.6263836205\n",
      "29.879727556\n",
      "13.1888875167\n",
      "28.3745005094\n",
      "13.3164908776\n",
      "33.2937921493\n",
      "13.1356870911\n",
      "32.9794404083\n",
      "14.7874919563\n",
      "28.1931048927\n",
      "14.9738726556\n",
      "28.8194051819\n",
      "14.0535548505\n",
      "23.1538949484\n",
      "13.9826388808\n",
      "24.3169604294\n",
      "13.7302895576\n",
      "32.5707269828\n",
      "14.920880119\n",
      "29.829725258\n",
      "14.351480307\n",
      "34.2028820784\n",
      "14.3414012823\n",
      "33.6695359348\n",
      "14.1779132336\n",
      "33.5038972592\n",
      "14.9312917225\n",
      "23.9937767475\n",
      "15.5013798961\n",
      "24.0531947016\n",
      "15.3172796458\n",
      "17.7523915354\n",
      "15.0258382839\n",
      "17.7480480149\n",
      "15.0918005469\n",
      "24.0785377375\n",
      "15.0284279059\n",
      "24.0549249528\n",
      "15.041697336\n",
      "23.9700458955\n",
      "14.9933871549\n",
      "19.6811413423\n",
      "15.4023183158\n",
      "16.9497325302\n",
      "15.3679661018\n",
      "19.1073065395\n",
      "0.0\n",
      "127.687894737\n",
      "0.0\n",
      "100.589934211\n",
      "0.0207777777778\n",
      "43.0545924708\n",
      "1.24782608696\n",
      "70.7046052632\n",
      "1.31655555556\n",
      "76.7031706871\n",
      "0.956824324324\n",
      "36.1048560855\n",
      "1.02617207792\n",
      "38.9581297127\n",
      "0.915699346405\n",
      "33.9183638889\n",
      "1.13758205542\n",
      "28.954581395\n",
      "1.06815151515\n",
      "27.3919025585\n",
      "0.964741561465\n",
      "36.4921485141\n",
      "0.948208129085\n",
      "24.8859536948\n",
      "1.01456166758\n",
      "22.3336011553\n",
      "0.882791353383\n",
      "44.586325146\n",
      "0.99227564649\n",
      "38.2406367272\n",
      "1.18349570409\n",
      "36.530496222\n",
      "1.92283769966\n",
      "31.169845189\n",
      "1.67931111111\n",
      "24.9384288443\n",
      "2.48952312843\n",
      "30.6075314853\n",
      "2.10578984269\n",
      "28.2354071309\n",
      "2.18057822063\n",
      "30.2289962158\n",
      "2.33040949434\n",
      "26.1898892003\n",
      "2.17039455042\n",
      "29.1903250644\n",
      "2.39669951095\n",
      "25.4846948397\n",
      "2.56668171101\n",
      "24.7053329365\n",
      "2.78790706012\n",
      "38.7626204977\n",
      "2.58684002857\n",
      "39.1840135763\n",
      "2.41239808442\n",
      "24.8306028726\n",
      "2.53114806066\n",
      "22.9466801334\n",
      "2.91209101472\n",
      "25.0065634935\n",
      "2.9645422888\n",
      "24.3535762435\n",
      "2.70907552589\n",
      "19.991634768\n",
      "2.65675677507\n",
      "20.2771123378\n",
      "3.21994644579\n",
      "25.3544149493\n",
      "3.39413194168\n",
      "16.629360183\n",
      "3.71853873821\n",
      "22.4884265164\n",
      "3.43266070359\n",
      "18.9435224351\n",
      "3.40309880454\n",
      "25.4574301297\n",
      "3.75632674962\n",
      "25.0803191963\n",
      "3.59516494409\n",
      "24.4746884149\n",
      "3.8461074777\n",
      "17.1526885588\n",
      "4.35948837618\n",
      "16.7746072574\n",
      "3.9664918947\n",
      "10.1834515703\n",
      "3.90281966327\n",
      "20.5425689911\n",
      "4.22877902861\n",
      "16.5807222071\n",
      "4.24687742604\n",
      "16.8152926885\n",
      "4.37876127325\n",
      "16.7249666138\n",
      "3.97242914235\n",
      "11.7801800716\n",
      "4.36862308974\n",
      "11.3720713305\n",
      "4.63741393469\n",
      "18.9356293735\n",
      "0.0\n",
      "127.687894737\n",
      "0.0\n",
      "89.3019078947\n",
      "0.0\n",
      "58.6269078947\n",
      "0.000289855072464\n",
      "76.2408187135\n",
      "0.0146666666667\n",
      "68.2128289474\n",
      "0.00193693693694\n",
      "58.8662938596\n",
      "0.00166666666667\n",
      "38.6569225146\n",
      "0.00130718954248\n",
      "60.7433406433\n",
      "0.00347457627119\n",
      "33.4841776316\n",
      "0.0108636363636\n",
      "28.0062401316\n",
      "0.0103698630137\n",
      "34.8176473684\n",
      "0.00957291666667\n",
      "22.2691940789\n",
      "0.0433333333333\n",
      "21.7262664474\n",
      "0.00680701754386\n",
      "40.6246710526\n",
      "0.00730065359477\n",
      "34.6242090643\n",
      "0.0118348623853\n",
      "38.5312646199\n",
      "0.0233210180624\n",
      "33.3891966896\n",
      "0.0701442121564\n",
      "24.4594692225\n",
      "0.158347509996\n",
      "29.1819605189\n",
      "0.021847826087\n",
      "30.7958223684\n",
      "0.0552011494253\n",
      "28.9507976974\n",
      "0.326363081617\n",
      "26.737985641\n",
      "0.136006289308\n",
      "32.4492927632\n",
      "0.131757342458\n",
      "23.2296303258\n",
      "0.145713122605\n",
      "22.5646704998\n",
      "0.227758747698\n",
      "41.823004989\n",
      "0.27265447695\n",
      "36.2259695872\n",
      "0.130045068027\n",
      "22.1869833333\n",
      "0.126307881773\n",
      "21.6756565789\n",
      "0.328302597403\n",
      "29.2286832238\n",
      "0.220912442396\n",
      "26.7874375731\n",
      "0.315580879282\n",
      "20.6022132316\n",
      "0.301180480918\n",
      "25.3706679142\n",
      "0.445689589815\n",
      "30.2252043368\n",
      "0.280037632939\n",
      "19.4195159674\n",
      "0.808043698687\n",
      "21.4801493205\n",
      "0.252681410256\n",
      "21.77015053\n",
      "0.236006130064\n",
      "28.1355054209\n",
      "0.529463896104\n",
      "28.2453437645\n",
      "0.461309692671\n",
      "24.4664495797\n",
      "0.871776547959\n",
      "14.9601434551\n",
      "0.55634412125\n",
      "16.9824644006\n",
      "0.293522054426\n",
      "22.4022883846\n",
      "0.395742351164\n",
      "12.5528549097\n",
      "0.639464510332\n",
      "17.5554227235\n",
      "0.686851648352\n",
      "18.7485873631\n",
      "0.94330171878\n",
      "16.5085604352\n",
      "0.56116965265\n",
      "10.9286979922\n",
      "0.404881952582\n",
      "13.8027331737\n",
      "1.00869038019\n",
      "11.2427839123\n"
     ]
    },
    {
     "data": {
      "image/png": "[encoded data removed]",
      "text/plain": [
       "<matplotlib.figure.Figure at 0x10c327850>"
      ]
     },
     "metadata": {},
     "output_type": "display_data"
    }
   ],
   "source": [
    "learning_curves(X_train, y_train, X_test, y_test)"
   ]
  },
  {
   "cell_type": "markdown",
   "metadata": {},
   "source": [
    "## Question 7\n",
    "*Choose one of the learning curve graphs that are created above. What is the max depth for the chosen model? As the size of the training set increases, what happens to the training error? What happens to the testing error?*"
   ]
  },
  {
   "cell_type": "markdown",
   "metadata": {},
   "source": [
    "**Answer: **\n",
    "Max depth 1. Training eror incrased intially and stabilized after 100 samples of traininging data. Testing error too reduced dramatically in the begging and stabilized around 100 samples."
   ]
  },
  {
   "cell_type": "markdown",
   "metadata": {},
   "source": [
    "## Question 8\n",
    "*Look at the learning curve graphs for the model with a max depth of 1 and a max depth of 10. When the model is using the full training set, does it suffer from high bias or high variance when the max depth is 1? What about when the max depth is 10?*"
   ]
  },
  {
   "cell_type": "markdown",
   "metadata": {},
   "source": [
    "**Answer: **\n",
    "When max depth is 1 it suffers from high bias. High error value and quick convergence in training and test set indicate underfitting. For max depth 10, I think it sufferes  over fit  (high variance) due to no change (very low/no error) in training error with increased data set and there still high testing error."
   ]
  },
  {
   "cell_type": "code",
   "execution_count": 72,
   "metadata": {
    "collapsed": false
   },
   "outputs": [
    {
     "name": "stdout",
     "output_type": "stream",
     "text": [
      "Creating a model complexity graph. . . \n",
      "47.4115481892\n",
      "43.524834386\n",
      "26.4092918489\n",
      "24.1538961045\n",
      "15.3679661018\n",
      "19.1073065395\n",
      "8.65160914414\n",
      "20.481389269\n",
      "6.37037760426\n",
      "11.460296666\n",
      "4.63741393469\n",
      "18.50356797\n",
      "2.69175866764\n",
      "18.5127911143\n",
      "1.72370131386\n",
      "10.5053519669\n",
      "1.31141212672\n",
      "19.3513135141\n",
      "1.00869038019\n",
      "19.7747790695\n",
      "0.675786447333\n",
      "10.9962840263\n",
      "0.388385341886\n",
      "11.4825622875\n",
      "0.196024599812\n",
      "11.5425568028\n"
     ]
    },
    {
     "data": {
      "image/png": "[encoded data removed]",
      "text/plain": [
       "<matplotlib.figure.Figure at 0x10bf52750>"
      ]
     },
     "metadata": {},
     "output_type": "display_data"
    }
   ],
   "source": [
    "model_complexity(X_train, y_train, X_test, y_test)"
   ]
  },
  {
   "cell_type": "markdown",
   "metadata": {},
   "source": [
    "## Question 9\n",
    "*From the model complexity graph above, describe the training and testing errors as the max depth increases. Based on your interpretation of the graph, which max depth results in a model that best generalizes the dataset? Why?*"
   ]
  },
  {
   "cell_type": "markdown",
   "metadata": {},
   "source": [
    "**Answer: **\n",
    "As max depth increases training errors are reducing however, testing errors reduce  until maximum depth 4(~5). Minimum error is 10.5 at max depth 4. And some variance (10.5 to 18.5 ) between max depth 6-10 and  performance again increases after max depth 10. I think max depth 4 generalizes the dataset very well."
   ]
  },
  {
   "cell_type": "markdown",
   "metadata": {},
   "source": [
    "# Model Prediction\n",
    "In this final section of the project, you will make a prediction on the client's feature set using an optimized model from `fit_model`. When applying grid search along with cross-validation to optimize your model, it would typically be performed and validated on a training set and subsequently evaluated on a **dedicated test set**. In this project, the optimization below is performed on the *entire dataset* (as opposed to the training set you made above) due to the many outliers in the data. Using the entire dataset for training provides for a less volatile prediction at the expense of not testing your model's performance. \n",
    "\n",
    "*To answer the following questions, it is recommended that you run the code blocks several times and use the median or mean value of the results.*"
   ]
  },
  {
   "cell_type": "markdown",
   "metadata": {},
   "source": [
    "## Question 10\n",
    "*Using grid search on the entire dataset, what is the optimal `max_depth` parameter for your model? How does this result compare to your intial intuition?*  \n",
    "**Hint: ** Run the code block below to see the max depth produced by your optimized model."
   ]
  },
  {
   "cell_type": "code",
   "execution_count": 75,
   "metadata": {
    "collapsed": false
   },
   "outputs": [
    {
     "name": "stdout",
     "output_type": "stream",
     "text": [
      "Final model has an optimal max_depth parameter of 4\n"
     ]
    }
   ],
   "source": [
    "print \"Final model has an optimal max_depth parameter of\", reg.get_params()['max_depth']"
   ]
  },
  {
   "cell_type": "markdown",
   "metadata": {},
   "source": [
    "**Answer: **\n",
    "Max depth returned is 4. My intuition of max_depth is 4"
   ]
  },
  {
   "cell_type": "markdown",
   "metadata": {},
   "source": [
    "## Question 11\n",
    "*With your parameter-tuned model, what is the best selling price for your client's home? How does this selling price compare to the basic statistics you calculated on the dataset?*  \n",
    "\n",
    "**Hint: ** Run the code block below to have your parameter-tuned model make a prediction on the client's home."
   ]
  },
  {
   "cell_type": "code",
   "execution_count": 76,
   "metadata": {
    "collapsed": false
   },
   "outputs": [
    {
     "name": "stdout",
     "output_type": "stream",
     "text": [
      "Predicted value of client's home: 21.630\n"
     ]
    }
   ],
   "source": [
    "sale_price = reg.predict(CLIENT_FEATURES)\n",
    "print \"Predicted value of client's home: {0:.3f}\".format(sale_price[0])"
   ]
  },
  {
   "cell_type": "markdown",
   "metadata": {},
   "source": [
    "**Answer: **\n",
    "Result is 21.630. Which is little above mean or below median  price but very close. Mean house price: 22.533\n",
    "Median house price: 21.2"
   ]
  },
  {
   "cell_type": "markdown",
   "metadata": {},
   "source": [
    "## Question 12 (Final Question):\n",
    "*In a few sentences, discuss whether you would use this model or not to predict the selling price of future clients' homes in the Greater Boston area.*"
   ]
  },
  {
   "cell_type": "markdown",
   "metadata": {},
   "source": [
    "**Answer: **\n",
    "After fixing grid search now data models return good values. With given features predicted house prices seems to be very close to mean price as expected. I think this prediciton is good and will use it."
   ]
  },
  {
   "cell_type": "code",
   "execution_count": null,
   "metadata": {
    "collapsed": false
   },
   "outputs": [],
   "source": []
  },
  {
   "cell_type": "code",
   "execution_count": null,
   "metadata": {
    "collapsed": false
   },
   "outputs": [],
   "source": []
  },
  {
   "cell_type": "code",
   "execution_count": null,
   "metadata": {
    "collapsed": false
   },
   "outputs": [],
   "source": []
  },
  {
   "cell_type": "code",
   "execution_count": null,
   "metadata": {
    "collapsed": false
   },
   "outputs": [],
   "source": []
  },
  {
   "cell_type": "code",
   "execution_count": null,
   "metadata": {
    "collapsed": false
   },
   "outputs": [],
   "source": []
  },
  {
   "cell_type": "code",
   "execution_count": null,
   "metadata": {
    "collapsed": true
   },
   "outputs": [],
   "source": []
  }
 ],
 "metadata": {
  "kernelspec": {
   "display_name": "Python 2",
   "language": "python",
   "name": "python2"
  },
  "language_info": {
   "codemirror_mode": {
    "name": "ipython",
    "version": 2
   },
   "file_extension": ".py",
   "mimetype": "text/x-python",
   "name": "python",
   "nbconvert_exporter": "python",
   "pygments_lexer": "ipython2",
   "version": "2.7.11"
  }
 },
 "nbformat": 4,
 "nbformat_minor": 0
}
